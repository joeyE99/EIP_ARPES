{
 "cells": [
  {
   "cell_type": "code",
   "execution_count": 3,
   "metadata": {},
   "outputs": [
    {
     "name": "stdout",
     "output_type": "stream",
     "text": [
      "Initiate in process ...\n",
      "Initiate complete\n"
     ]
    }
   ],
   "source": [
    "print('Initiate in process ...')\n",
    "\n",
    "import sys\n",
    " # adding Folder_2 to the system path\n",
    "sys.path.insert(0, '/Users/joe/Downloads/TP Scripts')\n",
    "\n",
    "from functions import *\n",
    "import functions as functions\n",
    "import h5py\n",
    "import matplotlib.pyplot as plt\n",
    "\n",
    "import scipy as scipy\n",
    "\n",
    "#%matplotlib inline\n",
    "\n",
    "output_filepath = '/Users/joe/Downloads/'  # The file path for the output files\n",
    "print('Initiate complete')\n",
    "\n",
    "from cmcrameri import cm\n",
    "cmp = cm.devon\n",
    "cmp = cmp.reversed()"
   ]
  },
  {
   "cell_type": "code",
   "execution_count": 2,
   "metadata": {},
   "outputs": [],
   "source": [
    "%load_ext autoreload\n",
    "%autoreload 2"
   ]
  },
  {
   "attachments": {},
   "cell_type": "markdown",
   "metadata": {},
   "source": [
    "# From .mat"
   ]
  },
  {
   "cell_type": "code",
   "execution_count": 7,
   "metadata": {},
   "outputs": [
    {
     "name": "stdout",
     "output_type": "stream",
     "text": [
      "Importing in process ...\n",
      "Importing completed\n"
     ]
    }
   ],
   "source": [
    "filepath_0 = \"/Users/joe/Library/CloudStorage/OneDrive-USTC/SLS_2022_11_25/EIP5/EIP#5 mat/EuIn2P2#5_kp_Eb_hv_GK_hv_scan_10K_CR\"\n",
    "\n",
    "sample_name = ['VA2474', 'EuIn2P2']\n",
    "\n",
    "x_axis_name = 'kp'\n",
    "y_axis_name = 'Eb'\n",
    "z_axis_name = 'hv'\n",
    "\n",
    "filepath = filepath_0 #+ sample_name[1]+'_'+x_axis_name+'_'+y_axis_name+'_'+z_axis_name+'.mat' \n",
    "\n",
    "print('Importing in process ...')\n",
    "mat_contents = loadmat(filepath)\n",
    "\n",
    "x = mat_contents[x_axis_name][0]\n",
    "y = mat_contents[y_axis_name][0]\n",
    "z = mat_contents[z_axis_name][0]\n",
    "data = mat_contents['data']\n",
    "\n",
    "E_work = 4.454\n",
    "\n",
    "'''\n",
    "Fermi_fit_dict = {'offset': mat_contents['offset'], \n",
    "                  'Temp': mat_contents['Temp'],\n",
    "                  'fermi_edge_conv_width': mat_contents['fermi_edge_conv_width'],\n",
    "                  'fermi_edge_const_bkg': mat_contents['fermi_edge_const_bkg'],\n",
    "                  'fermi_edge_lin_bkg': mat_contents['fermi_edge_lin_bkg'],\n",
    "                  'BG_offset': mat_contents['BG_offset'] }\n",
    "'''\n",
    "\n",
    "kp = x\n",
    "eb = y\n",
    "hv = z\n",
    "\n",
    "#kx = x\n",
    "#ky = y\n",
    "#eb = z\n",
    "data2 = data\n",
    "print('Importing completed')"
   ]
  },
  {
   "attachments": {},
   "cell_type": "markdown",
   "metadata": {},
   "source": [
    "# From PIVA"
   ]
  },
  {
   "cell_type": "code",
   "execution_count": 4,
   "metadata": {},
   "outputs": [
    {
     "name": "stdout",
     "output_type": "stream",
     "text": [
      "['DT', 'Ef', 'FE', 'PE', '__class__', '__contains__', '__delattr__', '__dict__', '__dir__', '__doc__', '__eq__', '__format__', '__ge__', '__getattribute__', '__gt__', '__hash__', '__init__', '__init_subclass__', '__le__', '__lt__', '__module__', '__ne__', '__new__', '__reduce__', '__reduce_ex__', '__repr__', '__setattr__', '__sizeof__', '__str__', '__subclasshook__', '__weakref__', '_get_args', '_get_kwargs', 'acq_mode', 'anal_slit', 'data', 'ekin', 'exit_slit', 'hv', 'kxscale', 'kyscale', 'lens_mode', 'n_sweeps', 'phi', 'polarization', 'pressure', 'scan_dim', 'scan_type', 'temp', 'theta', 'tilt', 'wf', 'x', 'xscale', 'y', 'yscale', 'z', 'zscale']\n",
      "Shape of Eb is  (215,)\n",
      "Shape of data0  (634, 215, 95)\n"
     ]
    },
    {
     "name": "stderr",
     "output_type": "stream",
     "text": [
      "100%|██████████| 95/95 [00:00<00:00, 373.54it/s]"
     ]
    },
    {
     "name": "stdout",
     "output_type": "stream",
     "text": [
      "Importing completed\n",
      "2.0\n",
      "0.9826107420313739\n",
      "Photon energy is   24.999960698763264  eV\n",
      "Work function is  4.454  eV\n"
     ]
    },
    {
     "name": "stderr",
     "output_type": "stream",
     "text": [
      "\n"
     ]
    }
   ],
   "source": [
    "from piva import data_loader as dl\n",
    "\n",
    "fname = '/Users/joe/Library/CloudStorage/OneDrive-USTC/SLS_2022_11_25/EIP5/GK_hv_scan_10K_CR_combined'\n",
    "\n",
    "scan = dl.load_data(fname)\n",
    "print(dir(scan))\n",
    "#print(scan.zscale)\n",
    "\n",
    "sample_name = ['20221125', \"EuCuAs#1\"]\n",
    "\n",
    "Y = scan.yscale\n",
    "hv = scan.xscale\n",
    "eb = -scan.zscale\n",
    "\n",
    "print( 'Shape of Eb is ', np.shape(eb) )\n",
    "\n",
    "\n",
    "if  np.shape(scan.data)[0]  < 2:\n",
    "    hv = np.array([scan.hv])\n",
    "\n",
    "data0 = scan.data\n",
    "data0 = np.moveaxis(data0, 0, -1)\n",
    "print('Shape of data0 ', np.shape(data0))\n",
    "\n",
    "\n",
    "\n",
    "pbar = tqdm.tqdm(total=len(hv), leave=True) # progress bar\n",
    "\n",
    "data1 = np.zeros(np.shape(data0))\n",
    "\n",
    "# Normalization\n",
    "\n",
    "ef_index = find_value_index(eb, 0)[0]\n",
    "eb_index = find_value_index(eb, 0.4)[0]\n",
    "\n",
    "\n",
    "for i in range(len(hv)):\n",
    "    In_sum = 0\n",
    "    In_sum = np.sum(data0[:,:,i])\n",
    "    if In_sum  == 0:\n",
    "        data1[:,:,i] = 0\n",
    "    else:\n",
    "        data1[:,:,i] = data0[:,:,i]/In_sum\n",
    "    pbar.update(1)\n",
    "\n",
    "data1  = data1 / np.max( data1 )\n",
    "pbar.close()\n",
    "\n",
    "#data1 = data0\n",
    "\n",
    "\n",
    "print('Importing completed')\n",
    "\n",
    "print(scan.FE)\n",
    "print(eb[1])\n",
    "\n",
    "E_work = scan.wf\n",
    "Photon_energy = scan.hv\n",
    "temp = scan.temp\n",
    "\n",
    "#eb = Photon_energy - eb - E_work\n",
    "print('Photon energy is  ', Photon_energy, ' eV')\n",
    "print('Work function is ', E_work, ' eV')\n",
    "\n",
    "#print('hv', hv)"
   ]
  },
  {
   "attachments": {},
   "cell_type": "markdown",
   "metadata": {},
   "source": [
    "# Slice_view"
   ]
  },
  {
   "cell_type": "code",
   "execution_count": 5,
   "metadata": {},
   "outputs": [
    {
     "data": {
      "application/vnd.jupyter.widget-view+json": {
       "model_id": "2c5867ee547144d5a94cd1ccd5e39c98",
       "version_major": 2,
       "version_minor": 0
      },
      "text/plain": [
       "VBox(children=(HBox(children=(IntSlider(value=317, description='X Index', max=633), FloatSlider(value=1.0, des…"
      ]
     },
     "metadata": {},
     "output_type": "display_data"
    }
   ],
   "source": [
    "fig, ax = functions.x_slice(data=data1, x=Y, y=-eb, z=hv, sample_name=sample_name, bar_length = 0, output_filepath=output_filepath, figsize=(5,5) )"
   ]
  },
  {
   "cell_type": "code",
   "execution_count": 6,
   "metadata": {},
   "outputs": [
    {
     "data": {
      "application/vnd.jupyter.widget-view+json": {
       "model_id": "3b6565d6792541948e639efe8605f46f",
       "version_major": 2,
       "version_minor": 0
      },
      "text/plain": [
       "VBox(children=(HBox(children=(IntSlider(value=194, description='Y Index', max=214), FloatSlider(value=1.0, des…"
      ]
     },
     "metadata": {},
     "output_type": "display_data"
    },
    {
     "data": {
      "text/plain": [
       "<matplotlib.lines.Line2D at 0x193ba9340>"
      ]
     },
     "execution_count": 6,
     "metadata": {},
     "output_type": "execute_result"
    }
   ],
   "source": [
    "fig, ax = functions.y_slice(data=data1, x=Y, y=eb, z=hv, sample_name=sample_name, if_swap=True, output_filepath=output_filepath, figsize=(10,5))\n",
    "\n",
    "ax.axvline(70, linewidth=0.5, color='r', linestyle='--')"
   ]
  },
  {
   "cell_type": "code",
   "execution_count": 11,
   "metadata": {},
   "outputs": [
    {
     "data": {
      "application/vnd.jupyter.widget-view+json": {
       "model_id": "3b5e1434a4c24e4e90e4a30528de640d",
       "version_major": 2,
       "version_minor": 0
      },
      "text/plain": [
       "VBox(children=(HBox(children=(IntSlider(value=0, description='Z Index', max=94), FloatSlider(value=1.0, descri…"
      ]
     },
     "metadata": {},
     "output_type": "display_data"
    }
   ],
   "source": [
    "fig, ax = functions.z_slice(data=data2, x=kp, y=-eb, z=hv, sample_name=sample_name, output_filepath=output_filepath, figsize=(5,5) )"
   ]
  },
  {
   "cell_type": "code",
   "execution_count": null,
   "metadata": {},
   "outputs": [],
   "source": []
  }
 ],
 "metadata": {
  "kernelspec": {
   "display_name": "ARPES",
   "language": "python",
   "name": "python3"
  },
  "language_info": {
   "codemirror_mode": {
    "name": "ipython",
    "version": 3
   },
   "file_extension": ".py",
   "mimetype": "text/x-python",
   "name": "python",
   "nbconvert_exporter": "python",
   "pygments_lexer": "ipython3",
   "version": "3.9.16"
  },
  "orig_nbformat": 4
 },
 "nbformat": 4,
 "nbformat_minor": 2
}
